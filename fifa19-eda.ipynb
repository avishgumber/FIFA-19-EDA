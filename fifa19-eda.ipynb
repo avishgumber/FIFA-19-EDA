{
 "cells": [
  {
   "cell_type": "markdown",
   "id": "84421e7f",
   "metadata": {},
   "source": [
    "# 1. Import Libraries"
   ]
  },
  {
   "cell_type": "code",
   "execution_count": 1,
   "id": "9ea4099e",
   "metadata": {},
   "outputs": [],
   "source": [
    "import pandas as pd\n",
    "import matplotlib.pyplot as plt\n",
    "import numpy as np\n",
    "import seaborn as sns"
   ]
  },
  {
   "cell_type": "markdown",
   "id": "f0ec521d",
   "metadata": {},
   "source": [
    "# 2. Read Datasheet"
   ]
  },
  {
   "cell_type": "code",
   "execution_count": 3,
   "id": "6a214127",
   "metadata": {},
   "outputs": [
    {
     "name": "stdout",
     "output_type": "stream",
     "text": [
      "(18207, 18)\n"
     ]
    }
   ],
   "source": [
    "df = pd.read_csv(\"fifa_eda.csv\")\n",
    "print(df.shape)"
   ]
  },
  {
   "cell_type": "markdown",
   "id": "2e421b95",
   "metadata": {},
   "source": [
    "so the dataset has 18 attributes and 18207 rows"
   ]
  },
  {
   "cell_type": "code",
   "execution_count": 4,
   "id": "e1a39ac1",
   "metadata": {},
   "outputs": [
    {
     "data": {
      "text/html": [
       "<div>\n",
       "<style scoped>\n",
       "    .dataframe tbody tr th:only-of-type {\n",
       "        vertical-align: middle;\n",
       "    }\n",
       "\n",
       "    .dataframe tbody tr th {\n",
       "        vertical-align: top;\n",
       "    }\n",
       "\n",
       "    .dataframe thead th {\n",
       "        text-align: right;\n",
       "    }\n",
       "</style>\n",
       "<table border=\"1\" class=\"dataframe\">\n",
       "  <thead>\n",
       "    <tr style=\"text-align: right;\">\n",
       "      <th></th>\n",
       "      <th>ID</th>\n",
       "      <th>Name</th>\n",
       "      <th>Age</th>\n",
       "      <th>Nationality</th>\n",
       "      <th>Overall</th>\n",
       "      <th>Potential</th>\n",
       "      <th>Club</th>\n",
       "      <th>Value</th>\n",
       "      <th>Wage</th>\n",
       "      <th>Preferred Foot</th>\n",
       "      <th>International Reputation</th>\n",
       "      <th>Skill Moves</th>\n",
       "      <th>Position</th>\n",
       "      <th>Joined</th>\n",
       "      <th>Contract Valid Until</th>\n",
       "      <th>Height</th>\n",
       "      <th>Weight</th>\n",
       "      <th>Release Clause</th>\n",
       "    </tr>\n",
       "  </thead>\n",
       "  <tbody>\n",
       "    <tr>\n",
       "      <th>0</th>\n",
       "      <td>158023</td>\n",
       "      <td>L. Messi</td>\n",
       "      <td>31</td>\n",
       "      <td>Argentina</td>\n",
       "      <td>94</td>\n",
       "      <td>94</td>\n",
       "      <td>FC Barcelona</td>\n",
       "      <td>110500.0</td>\n",
       "      <td>565.0</td>\n",
       "      <td>Left</td>\n",
       "      <td>5.0</td>\n",
       "      <td>4.0</td>\n",
       "      <td>RF</td>\n",
       "      <td>2004</td>\n",
       "      <td>2021-01-01</td>\n",
       "      <td>5.583333</td>\n",
       "      <td>159.0</td>\n",
       "      <td>226500.0</td>\n",
       "    </tr>\n",
       "    <tr>\n",
       "      <th>1</th>\n",
       "      <td>20801</td>\n",
       "      <td>Cristiano Ronaldo</td>\n",
       "      <td>33</td>\n",
       "      <td>Portugal</td>\n",
       "      <td>94</td>\n",
       "      <td>94</td>\n",
       "      <td>Juventus</td>\n",
       "      <td>77000.0</td>\n",
       "      <td>405.0</td>\n",
       "      <td>Right</td>\n",
       "      <td>5.0</td>\n",
       "      <td>5.0</td>\n",
       "      <td>ST</td>\n",
       "      <td>2018</td>\n",
       "      <td>2022-01-01</td>\n",
       "      <td>6.166667</td>\n",
       "      <td>183.0</td>\n",
       "      <td>127100.0</td>\n",
       "    </tr>\n",
       "    <tr>\n",
       "      <th>2</th>\n",
       "      <td>190871</td>\n",
       "      <td>Neymar Jr</td>\n",
       "      <td>26</td>\n",
       "      <td>Brazil</td>\n",
       "      <td>92</td>\n",
       "      <td>93</td>\n",
       "      <td>Paris Saint-Germain</td>\n",
       "      <td>118500.0</td>\n",
       "      <td>290.0</td>\n",
       "      <td>Right</td>\n",
       "      <td>5.0</td>\n",
       "      <td>5.0</td>\n",
       "      <td>LW</td>\n",
       "      <td>2017</td>\n",
       "      <td>2022-01-01</td>\n",
       "      <td>5.750000</td>\n",
       "      <td>150.0</td>\n",
       "      <td>228100.0</td>\n",
       "    </tr>\n",
       "    <tr>\n",
       "      <th>3</th>\n",
       "      <td>193080</td>\n",
       "      <td>De Gea</td>\n",
       "      <td>27</td>\n",
       "      <td>Spain</td>\n",
       "      <td>91</td>\n",
       "      <td>93</td>\n",
       "      <td>Manchester United</td>\n",
       "      <td>72000.0</td>\n",
       "      <td>260.0</td>\n",
       "      <td>Right</td>\n",
       "      <td>4.0</td>\n",
       "      <td>1.0</td>\n",
       "      <td>GK</td>\n",
       "      <td>2011</td>\n",
       "      <td>2020-01-01</td>\n",
       "      <td>6.333333</td>\n",
       "      <td>168.0</td>\n",
       "      <td>138600.0</td>\n",
       "    </tr>\n",
       "    <tr>\n",
       "      <th>4</th>\n",
       "      <td>192985</td>\n",
       "      <td>K. De Bruyne</td>\n",
       "      <td>27</td>\n",
       "      <td>Belgium</td>\n",
       "      <td>91</td>\n",
       "      <td>92</td>\n",
       "      <td>Manchester City</td>\n",
       "      <td>102000.0</td>\n",
       "      <td>355.0</td>\n",
       "      <td>Right</td>\n",
       "      <td>4.0</td>\n",
       "      <td>4.0</td>\n",
       "      <td>RCM</td>\n",
       "      <td>2015</td>\n",
       "      <td>2023-01-01</td>\n",
       "      <td>5.916667</td>\n",
       "      <td>154.0</td>\n",
       "      <td>196400.0</td>\n",
       "    </tr>\n",
       "  </tbody>\n",
       "</table>\n",
       "</div>"
      ],
      "text/plain": [
       "       ID               Name  Age Nationality  Overall  Potential  \\\n",
       "0  158023           L. Messi   31   Argentina       94         94   \n",
       "1   20801  Cristiano Ronaldo   33    Portugal       94         94   \n",
       "2  190871          Neymar Jr   26      Brazil       92         93   \n",
       "3  193080             De Gea   27       Spain       91         93   \n",
       "4  192985       K. De Bruyne   27     Belgium       91         92   \n",
       "\n",
       "                  Club     Value   Wage Preferred Foot  \\\n",
       "0         FC Barcelona  110500.0  565.0           Left   \n",
       "1             Juventus   77000.0  405.0          Right   \n",
       "2  Paris Saint-Germain  118500.0  290.0          Right   \n",
       "3    Manchester United   72000.0  260.0          Right   \n",
       "4      Manchester City  102000.0  355.0          Right   \n",
       "\n",
       "   International Reputation  Skill Moves Position  Joined  \\\n",
       "0                       5.0          4.0       RF    2004   \n",
       "1                       5.0          5.0       ST    2018   \n",
       "2                       5.0          5.0       LW    2017   \n",
       "3                       4.0          1.0       GK    2011   \n",
       "4                       4.0          4.0      RCM    2015   \n",
       "\n",
       "  Contract Valid Until    Height  Weight  Release Clause  \n",
       "0           2021-01-01  5.583333   159.0        226500.0  \n",
       "1           2022-01-01  6.166667   183.0        127100.0  \n",
       "2           2022-01-01  5.750000   150.0        228100.0  \n",
       "3           2020-01-01  6.333333   168.0        138600.0  \n",
       "4           2023-01-01  5.916667   154.0        196400.0  "
      ]
     },
     "execution_count": 4,
     "metadata": {},
     "output_type": "execute_result"
    }
   ],
   "source": [
    "df.head()"
   ]
  },
  {
   "cell_type": "markdown",
   "id": "68781822",
   "metadata": {},
   "source": [
    "# 3. Time for cleaning the dataset"
   ]
  },
  {
   "cell_type": "markdown",
   "id": "3f204667",
   "metadata": {},
   "source": [
    "Dataset cleaning is an important set of any EDA as it will help in understanding the patterns well. we will start by seeing whether the dataset has any null values or not."
   ]
  },
  {
   "cell_type": "code",
   "execution_count": 5,
   "id": "939a1127",
   "metadata": {},
   "outputs": [
    {
     "data": {
      "text/plain": [
       "ID                            0\n",
       "Name                          0\n",
       "Age                           0\n",
       "Nationality                   0\n",
       "Overall                       0\n",
       "Potential                     0\n",
       "Club                        241\n",
       "Value                       252\n",
       "Wage                          0\n",
       "Preferred Foot                0\n",
       "International Reputation     48\n",
       "Skill Moves                  48\n",
       "Position                      0\n",
       "Joined                        0\n",
       "Contract Valid Until        289\n",
       "Height                        0\n",
       "Weight                        0\n",
       "Release Clause                0\n",
       "dtype: int64"
      ]
     },
     "execution_count": 5,
     "metadata": {},
     "output_type": "execute_result"
    }
   ],
   "source": [
    "df.isnull().sum()"
   ]
  },
  {
   "cell_type": "markdown",
   "id": "28578ff5",
   "metadata": {},
   "source": [
    "So we see that the attributes such as 'Club':241, 'Contract Valid Unitl':289, 'International Reputation':48, 'Skill Moves':48, 'Value':252, contains null values. we will remove the tuples which contain such null values."
   ]
  },
  {
   "cell_type": "code",
   "execution_count": 11,
   "id": "aae407bc",
   "metadata": {},
   "outputs": [],
   "source": [
    "df = df.dropna(subset=['Club','Contract Valid Until',\n",
    "                       'International Reputation','Skill Moves','Value'])"
   ]
  },
  {
   "cell_type": "markdown",
   "id": "e5b897a0",
   "metadata": {},
   "source": [
    "Lets check that whether we were able to succesfull remove all the tuples which containes null values."
   ]
  },
  {
   "cell_type": "code",
   "execution_count": 12,
   "id": "4175e8f8",
   "metadata": {},
   "outputs": [
    {
     "data": {
      "text/plain": [
       "ID                          0\n",
       "Name                        0\n",
       "Age                         0\n",
       "Nationality                 0\n",
       "Overall                     0\n",
       "Potential                   0\n",
       "Club                        0\n",
       "Value                       0\n",
       "Wage                        0\n",
       "Preferred Foot              0\n",
       "International Reputation    0\n",
       "Skill Moves                 0\n",
       "Position                    0\n",
       "Joined                      0\n",
       "Contract Valid Until        0\n",
       "Height                      0\n",
       "Weight                      0\n",
       "Release Clause              0\n",
       "dtype: int64"
      ]
     },
     "execution_count": 12,
     "metadata": {},
     "output_type": "execute_result"
    }
   ],
   "source": [
    "df.isnull().sum()"
   ]
  },
  {
   "cell_type": "markdown",
   "id": "4c18c7c8",
   "metadata": {},
   "source": [
    "So now we can rest assured that all the dataset has been completely cleaned off of null values.\n",
    "\n",
    "\n",
    "\n",
    "\n",
    "\n",
    "\n",
    "\n",
    "\n",
    "\n",
    "\n",
    "\n",
    "S now since the dataset cleaning step is complete we can focus more on exploring the dataset itself."
   ]
  },
  {
   "cell_type": "markdown",
   "id": "11654862",
   "metadata": {},
   "source": [
    "# 4. Checking the number of unique instance of an attribute"
   ]
  },
  {
   "cell_type": "code",
   "execution_count": 13,
   "id": "90f71f28",
   "metadata": {},
   "outputs": [
    {
     "name": "stdout",
     "output_type": "stream",
     "text": [
      "ID 17907\n",
      "Name 16913\n",
      "Age 28\n",
      "Nationality 163\n",
      "Overall 48\n",
      "Potential 47\n",
      "Club 651\n",
      "Value 216\n",
      "Wage 143\n",
      "Preferred Foot 2\n",
      "International Reputation 5\n",
      "Skill Moves 5\n",
      "Position 27\n",
      "Joined 22\n",
      "Contract Valid Until 35\n",
      "Height 21\n",
      "Weight 57\n",
      "Release Clause 1245\n"
     ]
    }
   ],
   "source": [
    "for f in df.columns:\n",
    "    print(f,df[f].nunique())"
   ]
  },
  {
   "cell_type": "code",
   "execution_count": 14,
   "id": "61ae8a48",
   "metadata": {},
   "outputs": [
    {
     "data": {
      "text/plain": [
       "18"
      ]
     },
     "execution_count": 14,
     "metadata": {},
     "output_type": "execute_result"
    }
   ],
   "source": [
    "df.columns.nunique()"
   ]
  },
  {
   "cell_type": "markdown",
   "id": "2f132a1d",
   "metadata": {},
   "source": [
    "# 5. Age"
   ]
  },
  {
   "cell_type": "markdown",
   "id": "5f994d68",
   "metadata": {},
   "source": [
    "Lets take a closer look at the age of the players. More accurately we will focusing on the distribution of the age data."
   ]
  },
  {
   "cell_type": "code",
   "execution_count": 15,
   "id": "88c726de",
   "metadata": {},
   "outputs": [
    {
     "name": "stdout",
     "output_type": "stream",
     "text": [
      "25.0\n"
     ]
    },
    {
     "data": {
      "text/plain": [
       "<AxesSubplot:xlabel='Age', ylabel='Count'>"
      ]
     },
     "execution_count": 15,
     "metadata": {},
     "output_type": "execute_result"
    },
    {
     "data": {
      "image/png": "[encoded data removed]",
      "text/plain": [
       "<Figure size 432x288 with 1 Axes>"
      ]
     },
     "metadata": {
      "needs_background": "light"
     },
     "output_type": "display_data"
    }
   ],
   "source": [
    "print(df['Age'].median())\n",
    "sns.histplot(x='Age',data=df)"
   ]
  },
  {
   "cell_type": "markdown",
   "id": "355728be",
   "metadata": {},
   "source": [
    "The median age is 25 i.e most of the players have age closer to 25."
   ]
  },
  {
   "cell_type": "code",
   "execution_count": 16,
   "id": "fa583233",
   "metadata": {},
   "outputs": [
    {
     "data": {
      "text/plain": [
       "25.0"
      ]
     },
     "execution_count": 16,
     "metadata": {},
     "output_type": "execute_result"
    }
   ],
   "source": [
    "df[\"Age\"].median()"
   ]
  },
  {
   "cell_type": "markdown",
   "id": "ed1f906f",
   "metadata": {},
   "source": [
    "# 6. Preferred Foot"
   ]
  },
  {
   "cell_type": "markdown",
   "id": "c9123d82",
   "metadata": {},
   "source": [
    "Lets see whether majority of players prefer left foot or right foot."
   ]
  },
  {
   "cell_type": "code",
   "execution_count": 17,
   "id": "c5138ca0",
   "metadata": {},
   "outputs": [
    {
     "data": {
      "text/plain": [
       "<AxesSubplot:xlabel='Preferred Foot', ylabel='count'>"
      ]
     },
     "execution_count": 17,
     "metadata": {},
     "output_type": "execute_result"
    },
    {
     "data": {
      "image/png": "[encoded data removed]",
      "text/plain": [
       "<Figure size 432x288 with 1 Axes>"
      ]
     },
     "metadata": {
      "needs_background": "light"
     },
     "output_type": "display_data"
    }
   ],
   "source": [
    "sns.countplot(x='Preferred Foot',data=df)"
   ]
  },
  {
   "cell_type": "markdown",
   "id": "0a8e22dc",
   "metadata": {},
   "source": [
    "It seems most players like prefer to take the shot with rigth foot. but still unclear on how many players though"
   ]
  },
  {
   "cell_type": "code",
   "execution_count": 18,
   "id": "1911f669",
   "metadata": {},
   "outputs": [
    {
     "data": {
      "image/png": "[encoded data removed]",
      "text/plain": [
       "<Figure size 432x432 with 1 Axes>"
      ]
     },
     "metadata": {},
     "output_type": "display_data"
    }
   ],
   "source": [
    "plt.subplots(figsize=(6,6))\n",
    "plt.pie(df[\"Preferred Foot\"].value_counts(),\n",
    "        labels=[\"Right\",\"Left\"],autopct=\"%1.1f%%\")\n",
    "plt.show()"
   ]
  },
  {
   "cell_type": "markdown",
   "id": "73f35754",
   "metadata": {},
   "source": [
    "well now we know 76.8% of the players prefer right foot\n"
   ]
  },
  {
   "cell_type": "markdown",
   "id": "e776f983",
   "metadata": {},
   "source": [
    "# 7. Position they play in"
   ]
  },
  {
   "cell_type": "markdown",
   "id": "923428f5",
   "metadata": {},
   "source": [
    "Lets find out with position most players play in"
   ]
  },
  {
   "cell_type": "code",
   "execution_count": 19,
   "id": "6ab1bd25",
   "metadata": {},
   "outputs": [
    {
     "data": {
      "image/png": "[encoded data removed]",
      "text/plain": [
       "<Figure size 648x648 with 1 Axes>"
      ]
     },
     "metadata": {
      "needs_background": "light"
     },
     "output_type": "display_data"
    }
   ],
   "source": [
    "plt.subplots(figsize=(9,9))\n",
    "sns.countplot(x='Position',data=df)\n",
    "plt.show()"
   ]
  },
  {
   "cell_type": "markdown",
   "id": "b4c24f6f",
   "metadata": {},
   "source": [
    "It seems as though most players play in the ST position"
   ]
  },
  {
   "cell_type": "markdown",
   "id": "337cd992",
   "metadata": {},
   "source": [
    "# 8. International Reputation"
   ]
  },
  {
   "cell_type": "markdown",
   "id": "3227d8e6",
   "metadata": {},
   "source": [
    "International Reputation is a huge fator when it comes to a player and the team he is in. let us take a closer look as to how strong are their reputation on a scale of 1-5"
   ]
  },
  {
   "cell_type": "code",
   "execution_count": 28,
   "id": "359765eb",
   "metadata": {},
   "outputs": [
    {
     "data": {
      "text/plain": [
       "<AxesSubplot:xlabel='International Reputation', ylabel='count'>"
      ]
     },
     "execution_count": 28,
     "metadata": {},
     "output_type": "execute_result"
    },
    {
     "data": {
      "image/png": "[encoded data removed]",
      "text/plain": [
       "<Figure size 432x288 with 1 Axes>"
      ]
     },
     "metadata": {
      "needs_background": "light"
     },
     "output_type": "display_data"
    }
   ],
   "source": [
    "sns.countplot(x=\"International Reputation\",data=df)"
   ]
  },
  {
   "cell_type": "markdown",
   "id": "0677bfb2",
   "metadata": {},
   "source": [
    "This gives us an early idea as to how many players have the highest international reputation."
   ]
  },
  {
   "cell_type": "markdown",
   "id": "b06570dd",
   "metadata": {},
   "source": [
    "# 6. Skill Moves"
   ]
  },
  {
   "cell_type": "markdown",
   "id": "d84abdda",
   "metadata": {},
   "source": [
    "Skill Moves of a player directly translates into their performance in a game."
   ]
  },
  {
   "cell_type": "code",
   "execution_count": 29,
   "id": "2d9bba7e",
   "metadata": {},
   "outputs": [
    {
     "data": {
      "text/plain": [
       "<AxesSubplot:xlabel='Skill Moves', ylabel='count'>"
      ]
     },
     "execution_count": 29,
     "metadata": {},
     "output_type": "execute_result"
    },
    {
     "data": {
      "image/png": "[encoded data removed]",
      "text/plain": [
       "<Figure size 432x288 with 1 Axes>"
      ]
     },
     "metadata": {
      "needs_background": "light"
     },
     "output_type": "display_data"
    }
   ],
   "source": [
    "sns.countplot(x=\"Skill Moves\",data=df)"
   ]
  },
  {
   "cell_type": "markdown",
   "id": "dc5c27bb",
   "metadata": {},
   "source": [
    "Most of the players are of skill set point 2."
   ]
  },
  {
   "cell_type": "markdown",
   "id": "093fc231",
   "metadata": {},
   "source": [
    "# 7. Nationality"
   ]
  },
  {
   "cell_type": "markdown",
   "id": "7b458bd8",
   "metadata": {},
   "source": [
    "Lets find the top 10 countries with the most players in FIFA."
   ]
  },
  {
   "cell_type": "code",
   "execution_count": 30,
   "id": "8e077932",
   "metadata": {},
   "outputs": [
    {
     "data": {
      "image/png": "[encoded data removed]",
      "text/plain": [
       "<Figure size 432x288 with 1 Axes>"
      ]
     },
     "metadata": {
      "needs_background": "light"
     },
     "output_type": "display_data"
    }
   ],
   "source": [
    "national = df[\"Nationality\"].value_counts()[:10]\n",
    "national.plot.bar()\n",
    "plt.show()"
   ]
  },
  {
   "cell_type": "markdown",
   "id": "53f0fbbf",
   "metadata": {},
   "source": [
    "England is at the top for holding most fifa players."
   ]
  },
  {
   "cell_type": "markdown",
   "id": "c99ced33",
   "metadata": {},
   "source": [
    "# 8. Value,Wage,Release Clause"
   ]
  },
  {
   "cell_type": "markdown",
   "id": "9a90e86c",
   "metadata": {},
   "source": [
    "From here on now, we will focus on the relation between these three attributes."
   ]
  },
  {
   "cell_type": "code",
   "execution_count": 31,
   "id": "b4039f96",
   "metadata": {},
   "outputs": [
    {
     "data": {
      "text/plain": [
       "<seaborn.axisgrid.FacetGrid at 0x198e1ffce50>"
      ]
     },
     "execution_count": 31,
     "metadata": {},
     "output_type": "execute_result"
    },
    {
     "data": {
      "image/png": "[encoded data removed]",
      "text/plain": [
       "<Figure size 360x360 with 1 Axes>"
      ]
     },
     "metadata": {
      "needs_background": "light"
     },
     "output_type": "display_data"
    }
   ],
   "source": [
    "sns.lmplot(x='Wage',y='Release Clause',data=df)"
   ]
  },
  {
   "cell_type": "code",
   "execution_count": 32,
   "id": "7ee8f669",
   "metadata": {},
   "outputs": [
    {
     "data": {
      "text/plain": [
       "<seaborn.axisgrid.FacetGrid at 0x198de14ca30>"
      ]
     },
     "execution_count": 32,
     "metadata": {},
     "output_type": "execute_result"
    },
    {
     "data": {
      "image/png": "[encoded data removed]",
      "text/plain": [
       "<Figure size 360x360 with 1 Axes>"
      ]
     },
     "metadata": {
      "needs_background": "light"
     },
     "output_type": "display_data"
    }
   ],
   "source": [
    "sns.lmplot(x='Value',y='Release Clause',data=df)"
   ]
  },
  {
   "cell_type": "code",
   "execution_count": 33,
   "id": "7c887624",
   "metadata": {},
   "outputs": [
    {
     "data": {
      "text/plain": [
       "<seaborn.axisgrid.FacetGrid at 0x198e1ea4df0>"
      ]
     },
     "execution_count": 33,
     "metadata": {},
     "output_type": "execute_result"
    },
    {
     "data": {
      "image/png": "[encoded data removed]",
      "text/plain": [
       "<Figure size 360x360 with 1 Axes>"
      ]
     },
     "metadata": {
      "needs_background": "light"
     },
     "output_type": "display_data"
    }
   ],
   "source": [
    "sns.lmplot(x='Value',y='Wage',data=df)"
   ]
  },
  {
   "cell_type": "markdown",
   "id": "41b30154",
   "metadata": {},
   "source": [
    "# 8. Clubs"
   ]
  },
  {
   "cell_type": "code",
   "execution_count": 35,
   "id": "fcf3c7c2",
   "metadata": {},
   "outputs": [
    {
     "data": {
      "text/plain": [
       "FC Barcelona           33\n",
       "Eintracht Frankfurt    33\n",
       "Southampton            33\n",
       "Manchester City        33\n",
       "Manchester United      33\n",
       "Name: Club, dtype: int64"
      ]
     },
     "execution_count": 35,
     "metadata": {},
     "output_type": "execute_result"
    }
   ],
   "source": [
    "df['Club'].value_counts().sort_values(ascending=False).head()"
   ]
  },
  {
   "cell_type": "markdown",
   "id": "f79dd7ac",
   "metadata": {},
   "source": [
    "Lastly, we will take a look at the top 5 clubs with most players."
   ]
  },
  {
   "cell_type": "code",
   "execution_count": 40,
   "id": "eca529f3",
   "metadata": {},
   "outputs": [
    {
     "data": {
      "image/png": "[encoded data removed]",
      "text/plain": [
       "<Figure size 432x432 with 1 Axes>"
      ]
     },
     "metadata": {},
     "output_type": "display_data"
    }
   ],
   "source": [
    "plt.subplots(figsize=(6,6))\n",
    "size = df['Club'].value_counts().sort_values(ascending=False).head(5)\n",
    "\n",
    "def value(val):\n",
    "    x = np.round(val/100.*size.sum())\n",
    "    return x\n",
    "\n",
    "\n",
    "plt.pie(size,labels=size.index,autopct=value,explode=[0,0,0,0.05,0.2])\n",
    "plt.title(\"Club Members\")\n",
    "plt.show()"
   ]
  },
  {
   "cell_type": "code",
   "execution_count": null,
   "id": "a0870c03",
   "metadata": {},
   "outputs": [],
   "source": []
  }
 ],
 "metadata": {
  "kernelspec": {
   "display_name": "Python 3 (ipykernel)",
   "language": "python",
   "name": "python3"
  },
  "language_info": {
   "codemirror_mode": {
    "name": "ipython",
    "version": 3
   },
   "file_extension": ".py",
   "mimetype": "text/x-python",
   "name": "python",
   "nbconvert_exporter": "python",
   "pygments_lexer": "ipython3",
   "version": "3.9.7"
  }
 },
 "nbformat": 4,
 "nbformat_minor": 5
}
